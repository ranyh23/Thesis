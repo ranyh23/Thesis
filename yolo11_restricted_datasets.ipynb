{
 "cells": [
  {
   "cell_type": "code",
   "execution_count": null,
   "id": "3b4128b6",
   "metadata": {},
   "outputs": [],
   "source": [
    "# Loading the code required to run the code below\n",
    "import os\n",
    "from ultralytics import YOLO"
   ]
  },
  {
   "cell_type": "code",
   "execution_count": null,
   "id": "cea33a8d",
   "metadata": {},
   "outputs": [],
   "source": [
    "# Was crashing due to an unknown error, and I found this workaround online. Apparently it solves some library conflicts when running multiple instances of Intels OpenMP.\n",
    "# I would recommend not running this section, as the code should ideally function without it\n",
    "os.environ[\"KMP_DUPLICATE_LIB_OK\"] = \"TRUE\""
   ]
  },
  {
   "cell_type": "code",
   "execution_count": null,
   "id": "f929e13a",
   "metadata": {},
   "outputs": [],
   "source": [
    "# Specify the path to my datasets dataset.yaml file, in this case it is the subset of my original dataset\n",
    "data_yaml_path = \"tiled_dataset11/dataset.yaml\"\n",
    "\n",
    "# Specify the optimizer from the paper used as inspiration\n",
    "chosen_optimizer = \"AdamW\"\n",
    "\n",
    "# Specify how many epochs the model should run for\n",
    "epochs = 100\n",
    "# Specify which image size the model should rescale the input to\n",
    "imgsz = 640\n",
    "\n",
    "# Load the model\n",
    "v11_model = YOLO(\"yolo11n.pt\")\n",
    "\n",
    "# Here I override the current optimizer with the optimizer from the paper, which i specified before\n",
    "v11_model.overrides['optimizer'] = chosen_optimizer\n",
    "\n",
    "results = v11_model.train(\n",
    "    # Uses the dataset.yaml file to access the train/images and train/labels folders, as well as the validation folders\n",
    "    data=data_yaml_path,\n",
    "    epochs=epochs,\n",
    "    imgsz=imgsz,\n",
    "    # Run the training on my GPU\n",
    "    device=0,\n",
    "    # Specify that the computer should use less CPU to load the data, since I was running into crashes\n",
    "    workers=1,\n",
    "    # The batch size determines how many images the model has to go through before it updates its weights\n",
    "    batch=16,\n",
    "    learning_rate=0.01,\n",
    "\n",
    "    # Name of the folder in which the results and weights are saved\n",
    "    project=\"runs_tiled_data11\",\n",
    "\n",
    "    # Here I apply the augmentations from paper, which is discussed in more detail in the thesis\n",
    "    degrees=10,           \n",
    "    shear=15,\n",
    "    hsv_v=0.25,\n",
    "\n",
    "    # Since the papers used to inspire the augmentation did not mention these augmentations, I am disabling them\n",
    "    mosaic=0.0,\n",
    "    mixup=0.0,\n",
    "    flipud=0.0,\n",
    "    fliplr=0.0,\n",
    "    translate=0.0,\n",
    "    scale=0.0,\n",
    "    perspective=0.0,\n",
    "    hsv_h=0.0,\n",
    "    hsv_s=0.0,\n",
    "    copy_paste=0.0,\n",
    "    erasing=0.0\n",
    ")"
   ]
  },
  {
   "cell_type": "code",
   "execution_count": null,
   "id": "0a60b4cc",
   "metadata": {},
   "outputs": [],
   "source": [
    "# Setup so that I can run this part independently, by first reloading the package and model required\n",
    "from ultralytics import YOLO\n",
    "\n",
    "# In this case I run the entire path to the model, since this script was initially in a different folder. The \"r\" before the path makes it so python accepts the \"\\\"\n",
    "# in place of the usual \"/\"\n",
    "model = YOLO(r\"C:\\Users\\rasmn\\Desktop\\Speciale\\YOLO\\runs_tiled_data11\\train\\weights\\best.pt\")\n",
    "\n",
    "# Here I run validation on the full test set, since I want to be able to compare the two models\n",
    "validation_results = model.val(data=\"tiled_dataset/dataset.yaml\", split=\"test\")"
   ]
  }
 ],
 "metadata": {
  "kernelspec": {
   "display_name": "thesis",
   "language": "python",
   "name": "python3"
  },
  "language_info": {
   "codemirror_mode": {
    "name": "ipython",
    "version": 3
   },
   "file_extension": ".py",
   "mimetype": "text/x-python",
   "name": "python",
   "nbconvert_exporter": "python",
   "pygments_lexer": "ipython3",
   "version": "3.10.13"
  }
 },
 "nbformat": 4,
 "nbformat_minor": 5
}
